{
  "nbformat": 4,
  "nbformat_minor": 0,
  "metadata": {
    "colab": {
      "name": "2020_11_05_2048046_P7.ipynb",
      "provenance": [],
      "collapsed_sections": []
    },
    "kernelspec": {
      "name": "python3",
      "display_name": "Python 3"
    }
  },
  "cells": [
    {
      "cell_type": "markdown",
      "metadata": {
        "id": "_B-iPbXX9Ilk"
      },
      "source": [
        "<h3><center>\n",
        "\n",
        "**NAME     :** *R AKHILANDESHWARI*\n",
        "\n",
        "**REG NO   :** 2048046\n",
        "*italicized text*\n",
        "\n",
        "**TOPIC    :** *PANDAS IN PYTHON [EDULYTICS]*</h3></center>"
      ]
    },
    {
      "cell_type": "code",
      "metadata": {
        "id": "egf0wVJy8wZU"
      },
      "source": [
        "import pandas as pd\n",
        "import numpy as np\n",
        "import seaborn as sns\n",
        "import matplotlib.pyplot as plt\n",
        "%matplotlib inline"
      ],
      "execution_count": null,
      "outputs": []
    },
    {
      "cell_type": "markdown",
      "metadata": {
        "id": "aJPHj-D39dMe"
      },
      "source": [
        "<h2><center><b>PROBLEM STATEMENT</b></center></h2>\n",
        "\n",
        "<h6>\n",
        "The University of Anybody Can Learn Datascience (ABCLD) wants to analyze which type of learning component are contributing effectively in the improvement of final scores of the students who have taken a three year PG Programme in Data Science under new education policy. I am sure you will come up with the solution which will benefit the university to take the final\n",
        "\n",
        "\n",
        "<i><b>NOTE:</b></i>\n",
        "You need to make use of Pandas to perform the EDULYTICS on the given academic dataset with the help of missing value imputation and regression analysis.\n",
        "</h6>\n",
        "\n",
        "\n",
        "\n",
        "<h4><b>.<center>FEW INSTRUCTIONS</center></h4></b>\n",
        "<br>\n",
        "Given dataset is a dummy dataset containing information related to Grades from a PG course at ABCD University. There are total 5 attributes Sem_enrolled,Tests,Coursera,GroupActivity and\tFinalExam. FinalExam is the target variable.\n",
        "<br>\t\n",
        "The recorded values are the average of sub-components: e.g The Tests, coursera and group activity variables are the average of all tests, coursera courses and group activities taken by students. The FinalExam variable is the average of all questions in the final, written exam.\n",
        "<br>\n",
        "The Sem_enrolled column is the year in which the student first enrolled at the university and is a crude approximation of the student's age (maturity).\n",
        "<br>\n",
        "This particular course permitted students to work in groups for assignments, tutorials and the take-home exam. The groups were self-selected, and varied during the semester.\n",
        "<br>\n",
        "Of interest is whether the assignments, tutorials, midterms or take-home exam are a good predictor of the student's performance in the final exam. \n",
        "Also, findout whether the sem_enrolled variable show any promise as a prediction variable? ---- <b> We can perform regression among Sem_enrolled and FinalExam</b><br>\n",
        "<br>\n",
        "Data shape:\t100 rows and 5 columns <br>\n",
        "Missing Value: YES<br><br><br>\n",
        "<b><i>\n",
        "Task to be performed: Missing value imputation and Regression. </b></i>"
      ]
    },
    {
      "cell_type": "markdown",
      "metadata": {
        "id": "4Afeczbwy2b-"
      },
      "source": [
        "<center><h3><b><u>IMPUTING MISSING VALUES</b></u></h3><br><h4><i>Cleaning of Data</i></h4></center>\n",
        "\n"
      ]
    },
    {
      "cell_type": "code",
      "metadata": {
        "id": "0DSVIbp6ysXQ"
      },
      "source": [
        "EduData=pd.read_excel('/content/AcademicScoreDataset.xlsx')"
      ],
      "execution_count": null,
      "outputs": []
    },
    {
      "cell_type": "code",
      "metadata": {
        "id": "_5MsRXIAzipy",
        "colab": {
          "base_uri": "https://localhost:8080/"
        },
        "outputId": "ede2cdec-6678-41cc-c717-e3698ad741c8"
      },
      "source": [
        "EduData.columns"
      ],
      "execution_count": null,
      "outputs": [
        {
          "output_type": "execute_result",
          "data": {
            "text/plain": [
              "Index(['Sem_enrolled', 'Tests', 'Coursera', 'GroupActivity', 'Final'], dtype='object')"
            ]
          },
          "metadata": {
            "tags": []
          },
          "execution_count": 5
        }
      ]
    },
    {
      "cell_type": "code",
      "metadata": {
        "id": "agNtivnOznDM",
        "colab": {
          "base_uri": "https://localhost:8080/",
          "height": 198
        },
        "outputId": "46baa3f5-deec-4906-f179-d28d055df003"
      },
      "source": [
        "EduData.head()"
      ],
      "execution_count": null,
      "outputs": [
        {
          "output_type": "execute_result",
          "data": {
            "text/html": [
              "<div>\n",
              "<style scoped>\n",
              "    .dataframe tbody tr th:only-of-type {\n",
              "        vertical-align: middle;\n",
              "    }\n",
              "\n",
              "    .dataframe tbody tr th {\n",
              "        vertical-align: top;\n",
              "    }\n",
              "\n",
              "    .dataframe thead th {\n",
              "        text-align: right;\n",
              "    }\n",
              "</style>\n",
              "<table border=\"1\" class=\"dataframe\">\n",
              "  <thead>\n",
              "    <tr style=\"text-align: right;\">\n",
              "      <th></th>\n",
              "      <th>Sem_enrolled</th>\n",
              "      <th>Tests</th>\n",
              "      <th>Coursera</th>\n",
              "      <th>GroupActivity</th>\n",
              "      <th>Final</th>\n",
              "    </tr>\n",
              "  </thead>\n",
              "  <tbody>\n",
              "    <tr>\n",
              "      <th>0</th>\n",
              "      <td>5</td>\n",
              "      <td>95.05</td>\n",
              "      <td>34.09</td>\n",
              "      <td>51.48</td>\n",
              "      <td>52.50</td>\n",
              "    </tr>\n",
              "    <tr>\n",
              "      <th>1</th>\n",
              "      <td>1</td>\n",
              "      <td>83.70</td>\n",
              "      <td>100.00</td>\n",
              "      <td>99.07</td>\n",
              "      <td>68.33</td>\n",
              "    </tr>\n",
              "    <tr>\n",
              "      <th>2</th>\n",
              "      <td>1</td>\n",
              "      <td>81.22</td>\n",
              "      <td>83.17</td>\n",
              "      <td>63.15</td>\n",
              "      <td>48.89</td>\n",
              "    </tr>\n",
              "    <tr>\n",
              "      <th>3</th>\n",
              "      <td>2</td>\n",
              "      <td>91.32</td>\n",
              "      <td>96.06</td>\n",
              "      <td>100.00</td>\n",
              "      <td>80.56</td>\n",
              "    </tr>\n",
              "    <tr>\n",
              "      <th>4</th>\n",
              "      <td>1</td>\n",
              "      <td>95.00</td>\n",
              "      <td>93.64</td>\n",
              "      <td>100.00</td>\n",
              "      <td>73.89</td>\n",
              "    </tr>\n",
              "  </tbody>\n",
              "</table>\n",
              "</div>"
            ],
            "text/plain": [
              "   Sem_enrolled  Tests  Coursera  GroupActivity  Final\n",
              "0             5  95.05     34.09          51.48  52.50\n",
              "1             1  83.70    100.00          99.07  68.33\n",
              "2             1  81.22     83.17          63.15  48.89\n",
              "3             2  91.32     96.06         100.00  80.56\n",
              "4             1  95.00     93.64         100.00  73.89"
            ]
          },
          "metadata": {
            "tags": []
          },
          "execution_count": 6
        }
      ]
    },
    {
      "cell_type": "code",
      "metadata": {
        "id": "SGWqbQUY06bs",
        "colab": {
          "base_uri": "https://localhost:8080/"
        },
        "outputId": "6f1b1a96-9fdb-462d-c3d0-43aa301cc7cf"
      },
      "source": [
        "EduData.isnull().sum()"
      ],
      "execution_count": null,
      "outputs": [
        {
          "output_type": "execute_result",
          "data": {
            "text/plain": [
              "Sem_enrolled     0\n",
              "Tests            3\n",
              "Coursera         3\n",
              "GroupActivity    7\n",
              "Final            6\n",
              "dtype: int64"
            ]
          },
          "metadata": {
            "tags": []
          },
          "execution_count": 7
        }
      ]
    },
    {
      "cell_type": "code",
      "metadata": {
        "id": "dNfCx30u2ORM",
        "colab": {
          "base_uri": "https://localhost:8080/"
        },
        "outputId": "493e28cf-151c-4817-bb18-1eacdf53b8e9"
      },
      "source": [
        "#Filling Null values with 0\n",
        "EDO=EduData.fillna(0) \n",
        "EDO.isnull().sum()"
      ],
      "execution_count": null,
      "outputs": [
        {
          "output_type": "execute_result",
          "data": {
            "text/plain": [
              "Sem_enrolled     0\n",
              "Tests            0\n",
              "Coursera         0\n",
              "GroupActivity    0\n",
              "Final            0\n",
              "dtype: int64"
            ]
          },
          "metadata": {
            "tags": []
          },
          "execution_count": 8
        }
      ]
    },
    {
      "cell_type": "code",
      "metadata": {
        "id": "4K1SKrdPG7f7",
        "colab": {
          "base_uri": "https://localhost:8080/"
        },
        "outputId": "71b788aa-5fdc-4a7e-d865-7015b77cca86"
      },
      "source": [
        "#Filling Null values using forward fill method\n",
        "EDF=EduData.fillna(method='ffill')\n",
        "EDF.isnull().sum()"
      ],
      "execution_count": null,
      "outputs": [
        {
          "output_type": "execute_result",
          "data": {
            "text/plain": [
              "Sem_enrolled     0\n",
              "Tests            0\n",
              "Coursera         0\n",
              "GroupActivity    0\n",
              "Final            0\n",
              "dtype: int64"
            ]
          },
          "metadata": {
            "tags": []
          },
          "execution_count": 9
        }
      ]
    },
    {
      "cell_type": "code",
      "metadata": {
        "id": "tPoaV4xaHItr",
        "colab": {
          "base_uri": "https://localhost:8080/"
        },
        "outputId": "038e99c1-6c45-48ee-a199-773ab1b3b426"
      },
      "source": [
        "#Filling Null values using backward fill method\n",
        "EDB=EduData.fillna(method='bfill')\n",
        "EDB.isnull().sum()"
      ],
      "execution_count": null,
      "outputs": [
        {
          "output_type": "execute_result",
          "data": {
            "text/plain": [
              "Sem_enrolled     0\n",
              "Tests            1\n",
              "Coursera         0\n",
              "GroupActivity    0\n",
              "Final            0\n",
              "dtype: int64"
            ]
          },
          "metadata": {
            "tags": []
          },
          "execution_count": 10
        }
      ]
    },
    {
      "cell_type": "markdown",
      "metadata": {
        "id": "cG5U8OE_HRwM"
      },
      "source": [
        "<h4><b>INFERENCE:</b></h4>Since, the last row of the test contains the Null value. It is still remaining as Null. Similarly, if we use the first row contains null value and we use the ffill() then, we will still be remained with the null value. So, It's not appropriate to use ffill() and bfill(). And moreover, fillinf the null values with 0, will not result in a good prediction model. So, we have to use other Imputation Techniques for replacing the null values."
      ]
    },
    {
      "cell_type": "markdown",
      "metadata": {
        "id": "N6NW2v8UIiuK"
      },
      "source": [
        "<center><h3><u>MEAN METHOD FOR IMPUTING THE NULL VALUES</u><h3></h3>"
      ]
    },
    {
      "cell_type": "code",
      "metadata": {
        "id": "r_RdFnW-Iu6w"
      },
      "source": [
        "EduDataNullValues= ['Tests', 'Coursera', 'GroupActivity', 'Final']\n",
        "#Technique 1: Using mean to impute the missing values\n",
        "for i in EduDataNullValues:\n",
        " EduData.loc[EduData.loc[:,i].isnull(),i]=EduData.loc[:,i].mean()"
      ],
      "execution_count": null,
      "outputs": []
    },
    {
      "cell_type": "code",
      "metadata": {
        "id": "7YdXfOmuJni2",
        "colab": {
          "base_uri": "https://localhost:8080/"
        },
        "outputId": "2a2335a5-9cd3-4dcf-9bca-7bae5eb1870c"
      },
      "source": [
        "EduData.isnull().sum()"
      ],
      "execution_count": null,
      "outputs": [
        {
          "output_type": "execute_result",
          "data": {
            "text/plain": [
              "Sem_enrolled     0\n",
              "Tests            0\n",
              "Coursera         0\n",
              "GroupActivity    0\n",
              "Final            0\n",
              "dtype: int64"
            ]
          },
          "metadata": {
            "tags": []
          },
          "execution_count": 25
        }
      ]
    },
    {
      "cell_type": "markdown",
      "metadata": {
        "id": "kIjzRLOkKSY4"
      },
      "source": [
        "<center><h3><u>MEADIAN METHOD FOR IMPUTING THE NULL VALUES</u><h3></h3>"
      ]
    },
    {
      "cell_type": "code",
      "metadata": {
        "id": "UhVsnAwNKYNF"
      },
      "source": [
        "EduDataNullValues= ['Tests', 'Coursera', 'GroupActivity', 'Final']\n",
        "#Technique 1: Using mean to impute the missing values\n",
        "for i in EduDataNullValues:\n",
        " EduData.loc[EduData.loc[:,i].isnull(),i]=EduData.loc[:,i].median()"
      ],
      "execution_count": null,
      "outputs": []
    },
    {
      "cell_type": "code",
      "metadata": {
        "id": "Xnb0o_h8KYFI",
        "colab": {
          "base_uri": "https://localhost:8080/"
        },
        "outputId": "11ad2eb3-5d2c-4946-bbd7-6a46398db3be"
      },
      "source": [
        "EduData.isnull().sum()"
      ],
      "execution_count": null,
      "outputs": [
        {
          "output_type": "execute_result",
          "data": {
            "text/plain": [
              "Sem_enrolled     0\n",
              "Tests            0\n",
              "Coursera         0\n",
              "GroupActivity    0\n",
              "Final            0\n",
              "dtype: int64"
            ]
          },
          "metadata": {
            "tags": []
          },
          "execution_count": 26
        }
      ]
    },
    {
      "cell_type": "code",
      "metadata": {
        "id": "ylJf6Y56LfGa"
      },
      "source": [
        "'''Worked with KNN, but got error...... Because, KNN is best suitable for imputing the values of categorical data'''\n",
        "\n",
        "lis = []\n",
        "for i in range(0, EduData.shape[1]):\n",
        "     \n",
        "    if(EduData.iloc[:,i].dtypes == 'object'):\n",
        "        EduData.iloc[:,i] = pd.Categorical(EduData.iloc[:,i])\n",
        "        #print(marketing_train[[i]])\n",
        "        EduData.iloc[:,i] = EduData.iloc[:,i].cat.codes \n",
        "        EduData.iloc[:,i] = EduData.iloc[:,i].astype('object')\n",
        "         \n",
        "        lis.append(EduData.columns[i])\n",
        "\n",
        "#Apply KNN imputation algorithm\n",
        "#EduDataK = pd.DataFrame(KNN(k = 3).fit_transform(EduData)),columns = EduData.columns)\n",
        "KNN=KNeighborsClassifier()\n",
        "EduDataK= pd.DataFrame(KNN.fit_transform(EduData), columns = EduData.columns)\n"
      ],
      "execution_count": null,
      "outputs": []
    },
    {
      "cell_type": "markdown",
      "metadata": {
        "id": "vMv5nq57QTqR"
      },
      "source": [
        "<center><h3><u>DATA VISUALIZATION</u></h3></center>"
      ]
    },
    {
      "cell_type": "code",
      "metadata": {
        "id": "loRvJJgIOkGh",
        "colab": {
          "base_uri": "https://localhost:8080/",
          "height": 459
        },
        "outputId": "9a5cd4fc-d733-4ee0-82ad-68daa66dac17"
      },
      "source": [
        "sns.jointplot(x=EduData['Sem_enrolled'], y=EduData['Final'], data=EduData, kind='reg')"
      ],
      "execution_count": null,
      "outputs": [
        {
          "output_type": "execute_result",
          "data": {
            "text/plain": [
              "<seaborn.axisgrid.JointGrid at 0x7f8962d26048>"
            ]
          },
          "metadata": {
            "tags": []
          },
          "execution_count": 55
        },
        {
          "output_type": "display_data",
          "data": {
            "image/png": "[encoded data removed]",
            "text/plain": [
              "<Figure size 432x432 with 3 Axes>"
            ]
          },
          "metadata": {
            "tags": [],
            "needs_background": "light"
          }
        }
      ]
    },
    {
      "cell_type": "code",
      "metadata": {
        "id": "kYfrpk5e49eU",
        "colab": {
          "base_uri": "https://localhost:8080/",
          "height": 459
        },
        "outputId": "1fc5e83a-dcd6-4c6d-e1aa-6c970945441b"
      },
      "source": [
        "sns.jointplot(x=EduData['Tests'], y=EduData['Final'], data=EduData, kind='reg')\n",
        "\n",
        "#Sem_enrolled\tTests\tCoursera\tGroupActivity\tFinal"
      ],
      "execution_count": null,
      "outputs": [
        {
          "output_type": "execute_result",
          "data": {
            "text/plain": [
              "<seaborn.axisgrid.JointGrid at 0x7ff658ac6048>"
            ]
          },
          "metadata": {
            "tags": []
          },
          "execution_count": 32
        },
        {
          "output_type": "display_data",
          "data": {
            "image/png": "[encoded data removed]",
            "text/plain": [
              "<Figure size 432x432 with 3 Axes>"
            ]
          },
          "metadata": {
            "tags": [],
            "needs_background": "light"
          }
        }
      ]
    },
    {
      "cell_type": "code",
      "metadata": {
        "id": "6wUTRQ2-5Oiv",
        "colab": {
          "base_uri": "https://localhost:8080/",
          "height": 459
        },
        "outputId": "b4699407-cbab-4127-e8a7-ee971dd8e10d"
      },
      "source": [
        "sns.jointplot(x=EduData['Coursera'], y=EduData['Final'], data=EduData, kind='reg')"
      ],
      "execution_count": null,
      "outputs": [
        {
          "output_type": "execute_result",
          "data": {
            "text/plain": [
              "<seaborn.axisgrid.JointGrid at 0x7ff6589de8d0>"
            ]
          },
          "metadata": {
            "tags": []
          },
          "execution_count": 33
        },
        {
          "output_type": "display_data",
          "data": {
            "image/png": "[encoded data removed]",
            "text/plain": [
              "<Figure size 432x432 with 3 Axes>"
            ]
          },
          "metadata": {
            "tags": [],
            "needs_background": "light"
          }
        }
      ]
    },
    {
      "cell_type": "code",
      "metadata": {
        "id": "cXecGi1u5Rok",
        "colab": {
          "base_uri": "https://localhost:8080/",
          "height": 459
        },
        "outputId": "a5cd7ed8-99d1-4488-cd3d-951a63aec094"
      },
      "source": [
        "sns.jointplot(x=EduData['GroupActivity'], y=EduData['Final'], data=EduData, kind='reg')"
      ],
      "execution_count": null,
      "outputs": [
        {
          "output_type": "execute_result",
          "data": {
            "text/plain": [
              "<seaborn.axisgrid.JointGrid at 0x7ff6548b2588>"
            ]
          },
          "metadata": {
            "tags": []
          },
          "execution_count": 34
        },
        {
          "output_type": "display_data",
          "data": {
            "image/png": "[encoded data removed]",
            "text/plain": [
              "<Figure size 432x432 with 3 Axes>"
            ]
          },
          "metadata": {
            "tags": [],
            "needs_background": "light"
          }
        }
      ]
    },
    {
      "cell_type": "markdown",
      "metadata": {
        "id": "WppxayCCQ12E"
      },
      "source": [
        "<h4><b>INFERENCE:</b></h4> The year of Semester enrolled,coursera and Group Activity doesnot  effect the final of the Student. Only, tests effect the final result of the stdent.<br>\n"
      ]
    }
  ]
}